{
 "cells": [
  {
   "cell_type": "markdown",
   "metadata": {},
   "source": [
    "# Basic imports"
   ]
  },
  {
   "cell_type": "code",
   "execution_count": 30,
   "metadata": {},
   "outputs": [],
   "source": [
    "from langchain_community.llms import Ollama\n",
    "from langchain_community.embeddings import OllamaEmbeddings\n",
    "from langchain_core.output_parsers import StrOutputParser\n",
    "from langchain_community.document_loaders import PyPDFLoader\n",
    "from langchain.prompts import PromptTemplate\n",
    "from langchain_community.vectorstores import DocArrayInMemorySearch\n",
    "\n",
    "from operator import itemgetter"
   ]
  },
  {
   "cell_type": "code",
   "execution_count": 27,
   "metadata": {},
   "outputs": [],
   "source": [
    "MODEL = 'llama3'\n",
    "\n",
    "ollama_model = Ollama(model=MODEL)\n",
    "ollama_embeddings = OllamaEmbeddings(model=MODEL)"
   ]
  },
  {
   "cell_type": "code",
   "execution_count": 5,
   "metadata": {},
   "outputs": [
    {
     "data": {
      "text/plain": [
       "\"Here's one:\\n\\nWhy don't scientists trust atoms?\\n\\nBecause they make up everything!\\n\\nHope that made you smile!\""
      ]
     },
     "execution_count": 5,
     "metadata": {},
     "output_type": "execute_result"
    }
   ],
   "source": [
    "ollama_model.invoke('Tell me a joke')"
   ]
  },
  {
   "cell_type": "code",
   "execution_count": 7,
   "metadata": {},
   "outputs": [
    {
     "data": {
      "text/plain": [
       "\"Here's one:\\n\\nWhy don't scientists trust atoms?\\n\\nBecause they make up everything!\\n\\nHope that made you smile!\""
      ]
     },
     "execution_count": 7,
     "metadata": {},
     "output_type": "execute_result"
    }
   ],
   "source": [
    "parser = StrOutputParser()\n",
    "\n",
    "chain = ollama_model | parser\n",
    "chain.invoke('Tell me a joke')"
   ]
  },
  {
   "cell_type": "code",
   "execution_count": 25,
   "metadata": {},
   "outputs": [],
   "source": [
    "file = 'Resources/2024_Kosar_Computer science education in chatgpt era.pdf'\n",
    "\n",
    "loader = PyPDFLoader(file)\n",
    "\n",
    "pages = loader.load_and_split()"
   ]
  },
  {
   "cell_type": "code",
   "execution_count": 18,
   "metadata": {},
   "outputs": [],
   "source": [
    "prompt_template = '''\n",
    "You are a research assistant that is tasked with reviewing scientific papers. You are given different research questions that you have to answer by reading the papers. You will be given one paper at a time. You have to read the paper and answer the question based on the content of the paper. Do not add information not present in the paper.\n",
    "\n",
    "Context: {context}\n",
    "\n",
    "Question: {question}\n",
    "'''"
   ]
  },
  {
   "cell_type": "code",
   "execution_count": 32,
   "metadata": {},
   "outputs": [
    {
     "name": "stdout",
     "output_type": "stream",
     "text": [
      "\n",
      "You are a research assistant that is tasked with reviewing scientific papers. You are given different research questions that you have to answer by reading the papers. You will be given one paper at a time. You have to read the paper and answer the question based on the content of the paper. Do not add information not present in the paper.\n",
      "\n",
      "Context: Here is some context\n",
      "\n",
      "Question: Here is a question\n",
      "\n"
     ]
    }
   ],
   "source": [
    "prompt = PromptTemplate.from_template(prompt_template)\n",
    "print(prompt.format(context='Here is some context', question='Here is a question'))"
   ]
  },
  {
   "cell_type": "code",
   "execution_count": 23,
   "metadata": {},
   "outputs": [],
   "source": [
    "chain = prompt | ollama_model | parser"
   ]
  },
  {
   "cell_type": "code",
   "execution_count": 29,
   "metadata": {},
   "outputs": [
    {
     "name": "stderr",
     "output_type": "stream",
     "text": [
      "e:\\Programs\\miniconda3\\envs\\research_ass\\lib\\site-packages\\pydantic\\_migration.py:283: UserWarning: `pydantic.error_wrappers:ValidationError` has been moved to `pydantic:ValidationError`.\n",
      "  warnings.warn(f'`{import_path}` has been moved to `{new_location}`.')\n"
     ]
    }
   ],
   "source": [
    "vectore_store = DocArrayInMemorySearch.from_documents(pages, embedding = ollama_embeddings)\n",
    "\n",
    "retriever = vectore_store.as_retriever()"
   ]
  },
  {
   "cell_type": "code",
   "execution_count": 33,
   "metadata": {},
   "outputs": [],
   "source": [
    "chain = (\n",
    "    {\n",
    "        'context': itemgetter('question') | retriever,\n",
    "        'question': itemgetter('question')\n",
    "    }\n",
    "    | prompt\n",
    "    | ollama_model\n",
    "    | parser\n",
    ")"
   ]
  },
  {
   "cell_type": "code",
   "execution_count": 34,
   "metadata": {},
   "outputs": [],
   "source": [
    "questions = [\n",
    "    'What is the contribution of the paper?',\n",
    "    'What are the implications for programming education?',\n",
    "    'What data has been used in the paper?',\n",
    "    'What are the advantages and disadvantages of the proposed approach?'\n",
    "]"
   ]
  },
  {
   "cell_type": "code",
   "execution_count": 36,
   "metadata": {},
   "outputs": [
    {
     "name": "stdout",
     "output_type": "stream",
     "text": [
      "Question: What is the contribution of the paper?\n",
      "Answer: Based on the provided paper, it appears to be a study on the use and effectiveness of ChatGPT in computer science education. The paper presents the results of an experiment that involved two groups of students: one group used ChatGPT for practical assignments, while the other group did not.\n",
      "\n",
      "The main contributions of this paper are:\n",
      "\n",
      "1. Insights into how students use ChatGPT: The study shows that most students used ChatGPT for code optimization and comparison with their own code, rather than generating new code.\n",
      "2. Code understandability: The results suggest that the code generated by ChatGPT was generally understandable to students who used it.\n",
      "3. Influence of ChatGPT on exam grades: Despite concerns about over-reliance on ChatGPT, the study found no significant impact on students' overall grades.\n",
      "\n",
      "Overall, this paper provides practical insights into the use and effectiveness of ChatGPT in computer science education, which can inform teaching practices and help educators better understand how to integrate AI tools into their curriculum.\n",
      "-------------------\n",
      "Question: What are the implications for programming education?\n",
      "Answer: Based on the provided papers, I can identify some implications for programming education:\n",
      "\n",
      "1. **Adjustments to course evaluation**: The paper discusses adjustments made to a programming course to prepare students for using ChatGPT, including providing detailed descriptions in practical assignments and encouraging students to extend previous assignments.\n",
      "2. **Student attitudes towards ChatGPT**: The study found that only 21 out of 69 participants reported using ChatGPT regularly for all assignments, indicating that students are cautious about relying too heavily on the tool.\n",
      "3. **Impact on exam grade**: Although there was no unanimous agreement, 44 participants from Group I (ChatGPT) believed that ChatGPT had a positive impact on their course grade.\n",
      "\n",
      "These findings suggest that programming education should consider incorporating ChatGPT in a way that encourages students to use it responsibly and critically, rather than relying solely on the tool. Additionally, educators may need to adapt their teaching approaches to accommodate the changing landscape of AI-assisted learning.\n",
      "-------------------\n",
      "Question: What data has been used in the paper?\n",
      "Answer: Based on the provided paper, the following data has been used:\n",
      "\n",
      "1. Figure 3: Number of participants in Group II that used ChatGPT regularly for practical assignments.\n",
      "2. Figure 4: Number of participants in Group I that used ChatGPT regularly for practical assignments.\n",
      "3. Figure 5: The positive impact of ChatGPT on course grade (Group I).\n",
      "4. Figure 6: The purpose of ChatGPT use (Group I).\n",
      "5. Figure 7: The understandability of code received from ChatGPT (Group I).\n",
      "\n",
      "Note that the paper does not provide detailed information about the data collection methods or statistical analyses used to generate these figures, so it is unclear what specific types of data were collected and analyzed.\n",
      "-------------------\n",
      "Question: What are the advantages and disadvantages of the proposed approach?\n",
      "Answer: Based on the provided paper, it is difficult to determine specific advantages and disadvantages of the proposed approach as there is no clear description of the approach. However, we can infer some points from the paper:\n",
      "\n",
      "Advantages:\n",
      "\n",
      "* The study found that ChatGPT was used more for code optimization and comparison than code generation, which suggests that students were using it effectively.\n",
      "* The understandability of code received from ChatGPT was very high (4 or 5 on a 5-point Likert scale), indicating that the tool was providing useful code.\n",
      "* The study found no significant correlation between ChatGPT use and exam grade.\n",
      "\n",
      "Disadvantages:\n",
      "\n",
      "* Some students did not follow instructions and used ChatGPT excessively, which could compromise the results.\n",
      "* The paper notes that excessive use of ChatGPT can lead to worse results on paper-based midterm exams, indicating a potential negative effect.\n",
      "* Although there was no significant correlation between ChatGPT use and exam grade, it is possible that some students who relied heavily on ChatGPT may have performed poorly on the exams.\n",
      "\n",
      "It is important to note that this study only provides insight into one specific context and does not provide generalizable findings. The advantages and disadvantages mentioned above are based on the specific study design and results presented in the paper.\n",
      "-------------------\n"
     ]
    }
   ],
   "source": [
    "for question in questions:\n",
    "    print(f'Question: {question}')\n",
    "    print(f\"Answer: {chain.invoke({'question': question})}\")\n",
    "    print('-------------------')"
   ]
  }
 ],
 "metadata": {
  "kernelspec": {
   "display_name": "Python 3",
   "language": "python",
   "name": "python3"
  },
  "language_info": {
   "codemirror_mode": {
    "name": "ipython",
    "version": 3
   },
   "file_extension": ".py",
   "mimetype": "text/x-python",
   "name": "python",
   "nbconvert_exporter": "python",
   "pygments_lexer": "ipython3",
   "version": "3.10.14"
  }
 },
 "nbformat": 4,
 "nbformat_minor": 2
}
