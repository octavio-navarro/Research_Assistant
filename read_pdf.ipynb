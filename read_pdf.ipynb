{
 "cells": [
  {
   "cell_type": "markdown",
   "metadata": {},
   "source": [
    "# Basic imports"
   ]
  },
  {
   "cell_type": "code",
   "execution_count": 1,
   "metadata": {},
   "outputs": [],
   "source": [
    "from langchain_community.llms import Ollama\n",
    "from langchain_community.embeddings import OllamaEmbeddings\n",
    "from langchain_core.output_parsers import StrOutputParser\n",
    "from langchain_community.document_loaders import PyPDFLoader\n",
    "from langchain.prompts import PromptTemplate\n",
    "from langchain_community.vectorstores import DocArrayInMemorySearch\n",
    "\n",
    "from operator import itemgetter"
   ]
  },
  {
   "cell_type": "markdown",
   "metadata": {},
   "source": [
    "# Creating a model from Ollama"
   ]
  },
  {
   "cell_type": "code",
   "execution_count": 2,
   "metadata": {},
   "outputs": [],
   "source": [
    "MODEL = 'llama3'\n",
    "\n",
    "ollama_model = Ollama(model=MODEL)\n",
    "ollama_embeddings = OllamaEmbeddings(model=MODEL)"
   ]
  },
  {
   "cell_type": "code",
   "execution_count": 3,
   "metadata": {},
   "outputs": [
    {
     "data": {
      "text/plain": [
       "\"Here's one:\\n\\nWhy couldn't the bicycle stand up by itself?\\n\\n(wait for it...)\\n\\nBecause it was two-tired!\\n\\nHope that made you smile! Do you want to hear another one?\""
      ]
     },
     "execution_count": 3,
     "metadata": {},
     "output_type": "execute_result"
    }
   ],
   "source": [
    "ollama_model.invoke('Tell me a joke')"
   ]
  },
  {
   "cell_type": "code",
   "execution_count": 4,
   "metadata": {},
   "outputs": [
    {
     "data": {
      "text/plain": [
       "\"Here's one:\\n\\nWhy couldn't the bicycle stand up by itself?\\n\\n(Wait for it...)\\n\\nBecause it was two-tired!\\n\\nHope that made you smile! Do you want to hear another one?\""
      ]
     },
     "execution_count": 4,
     "metadata": {},
     "output_type": "execute_result"
    }
   ],
   "source": [
    "parser = StrOutputParser()\n",
    "\n",
    "chain = ollama_model | parser\n",
    "chain.invoke('Tell me a joke')"
   ]
  },
  {
   "cell_type": "markdown",
   "metadata": {},
   "source": [
    "# Loading a file to pass to the langchain"
   ]
  },
  {
   "cell_type": "code",
   "execution_count": 5,
   "metadata": {},
   "outputs": [],
   "source": [
    "file = 'Resources/2024_Kosar_Computer science education in chatgpt era.pdf'\n",
    "\n",
    "loader = PyPDFLoader(file)\n",
    "\n",
    "pages = loader.load_and_split()"
   ]
  },
  {
   "cell_type": "code",
   "execution_count": 6,
   "metadata": {},
   "outputs": [],
   "source": [
    "prompt_template = '''\n",
    "You are a research assistant that is tasked with reviewing scientific papers. You are given different research questions that you have to answer by reading the papers. You will be given one paper at a time. You have to read the paper, create a summary of the paper, including its main contributions and drawbacks, and then answer the questions based on the content of the paper. Do not add information not present in the paper.\n",
    "\n",
    "Context: {context}\n",
    "\n",
    "Question: {question}\n",
    "'''"
   ]
  },
  {
   "cell_type": "code",
   "execution_count": 7,
   "metadata": {},
   "outputs": [
    {
     "name": "stdout",
     "output_type": "stream",
     "text": [
      "\n",
      "You are a research assistant that is tasked with reviewing scientific papers. You are given different research questions that you have to answer by reading the papers. You will be given one paper at a time. You have to read the paper, create a summary of the paper, including its main contributions and drawbacks, and then answer the questions based on the content of the paper. Do not add information not present in the paper.\n",
      "\n",
      "Context: Here is some context\n",
      "\n",
      "Question: Here is a question\n",
      "\n"
     ]
    }
   ],
   "source": [
    "prompt = PromptTemplate.from_template(prompt_template)\n",
    "print(prompt.format(context='Here is some context', question='Here is a question'))"
   ]
  },
  {
   "cell_type": "markdown",
   "metadata": {},
   "source": [
    "# Create a chain"
   ]
  },
  {
   "cell_type": "code",
   "execution_count": 8,
   "metadata": {},
   "outputs": [],
   "source": [
    "chain = prompt | ollama_model | parser"
   ]
  },
  {
   "cell_type": "markdown",
   "metadata": {},
   "source": [
    "We need to use a vector store to store the contents of the pdf file to pass as context to the prompt."
   ]
  },
  {
   "cell_type": "code",
   "execution_count": 9,
   "metadata": {},
   "outputs": [
    {
     "name": "stderr",
     "output_type": "stream",
     "text": [
      "e:\\Programs\\miniconda3\\envs\\research_ass\\lib\\site-packages\\pydantic\\_migration.py:283: UserWarning: `pydantic.error_wrappers:ValidationError` has been moved to `pydantic:ValidationError`.\n",
      "  warnings.warn(f'`{import_path}` has been moved to `{new_location}`.')\n"
     ]
    }
   ],
   "source": [
    "vectore_store = DocArrayInMemorySearch.from_documents(pages, embedding = ollama_embeddings)\n",
    "\n",
    "retriever = vectore_store.as_retriever()"
   ]
  },
  {
   "cell_type": "code",
   "execution_count": 10,
   "metadata": {},
   "outputs": [],
   "source": [
    "chain = (\n",
    "    {\n",
    "        'context': itemgetter('question') | retriever,\n",
    "        'question': itemgetter('question')\n",
    "    }\n",
    "    | prompt\n",
    "    | ollama_model\n",
    "    | parser\n",
    ")"
   ]
  },
  {
   "cell_type": "markdown",
   "metadata": {},
   "source": [
    "# Run the chain on some questions"
   ]
  },
  {
   "cell_type": "code",
   "execution_count": 11,
   "metadata": {},
   "outputs": [],
   "source": [
    "questions = [\n",
    "    'What is the contribution of the paper?',\n",
    "    'What are the implications for programming education?',\n",
    "    'What data has been used in the paper?',\n",
    "    'What are the advantages and disadvantages of the proposed approach?'\n",
    "]"
   ]
  },
  {
   "cell_type": "code",
   "execution_count": 12,
   "metadata": {},
   "outputs": [
    {
     "name": "stdout",
     "output_type": "stream",
     "text": [
      "Question: What is the contribution of the paper?\n",
      "Answer: The paper discusses the use of ChatGPT in a computer science education setting, specifically in a classroom where students were allowed to use it for certain purposes. The main contributions of the paper are:\n",
      "\n",
      "1. An analysis of how students used ChatGPT in different ways, including code generation, optimization, comparison, and explanation.\n",
      "2. A finding that students were able to understand the code generated by ChatGPT, with most participants rating it as \"very understandable\".\n",
      "3. An observation that while some students did not follow instructions and used ChatGPT excessively, others were more responsible in their use of the technology.\n",
      "\n",
      "The paper provides insights into how students interacted with ChatGPT and how educators can effectively integrate this technology into educational settings to promote learning.\n",
      "-------------------\n",
      "Question: What are the implications for programming education?\n",
      "Answer: Based on the provided research paper \"Computer Science Education in the ChatGPT Era\", here is a summary of the main contributions and drawbacks, as well as answers to the question:\n",
      "\n",
      "Summary:\n",
      "The paper discusses the implications of ChatGPT on computer science education. The authors present an experimental study that examines students' use of ChatGPT and its impact on their learning outcomes. The results show that while some students used ChatGPT excessively, others were more selective in their usage. The study also highlights the importance of teaching critical thinking skills to help students evaluate the quality of AI-generated code.\n",
      "\n",
      "Main Contributions:\n",
      "\n",
      "1. The paper provides insights into how students use ChatGPT and its impact on their learning outcomes.\n",
      "2. It highlights the need for educators to teach critical thinking skills to help students evaluate the quality of AI-generated code.\n",
      "\n",
      "Drawbacks:\n",
      "The study has some limitations, including the potential bias in student responses and the lack of control over the experimental conditions.\n",
      "\n",
      "Implications for Programming Education:\n",
      "\n",
      "1. Educators should be aware of the potential risks and benefits of ChatGPT's use in programming education.\n",
      "2. Teaching critical thinking skills is essential to help students evaluate the quality of AI-generated code.\n",
      "3. The study suggests that educators should consider implementing measures to promote responsible use of ChatGPT, such as providing guidance on how to properly cite AI-generated code.\n",
      "\n",
      "Overall, the paper provides valuable insights into the implications of ChatGPT on computer science education and highlights the importance of teaching critical thinking skills to help students navigate the changing landscape of programming.\n",
      "-------------------\n",
      "Question: What data has been used in the paper?\n",
      "Answer: Based on the provided text, it appears that no specific data has been presented or discussed in the paper. The text only mentions figures (Figures 3-7) which are likely to be graphical representations of results or findings from a study, but the actual data is not provided.\n",
      "-------------------\n",
      "Question: What are the advantages and disadvantages of the proposed approach?\n",
      "Answer: Based on the provided paper, here is a summary of the main contributions and drawbacks:\n",
      "\n",
      "Summary:\n",
      "The study explores the impact of ChatGPT on computer science education. The authors propose an approach that minimizes code generation through adjustments for practical assignments. The results show that participants used ChatGPT primarily for code optimization and comparison with their own code, rather than code generation. The students found the code received from ChatGPT to be very understandable.\n",
      "\n",
      "Main Contributions:\n",
      "\n",
      "* The study demonstrates a way to minimize code generation in computer science education using ChatGPT.\n",
      "* It highlights the potential benefits of using ChatGPT for code optimization and comparison, which can help students learn programming concepts more effectively.\n",
      "* The results suggest that students are capable of understanding the code generated by ChatGPT.\n",
      "\n",
      "Drawbacks:\n",
      "\n",
      "* Some students may still use ChatGPT excessively, despite efforts to minimize its usage.\n",
      "* The study does not provide conclusive evidence on whether ChatGPT has a positive or negative impact on exam grades.\n",
      "* The authors note that some participants did not follow the instructions and used ChatGPT for almost every practical assignment, which could compromise the statistical results.\n",
      "\n",
      "Advantages:\n",
      "The proposed approach can help students learn programming concepts more effectively by providing code optimization and comparison tools. It also allows instructors to monitor students' understanding of the generated code.\n",
      "\n",
      "Disadvantages:\n",
      "Excessive use of ChatGPT may lead to worse results on paper-based exams. Additionally, some students may not follow instructions and use ChatGPT excessively, which can compromise the study's statistical results.\n",
      "-------------------\n"
     ]
    }
   ],
   "source": [
    "for question in questions:\n",
    "    print(f'Question: {question}')\n",
    "    print(f\"Answer: {chain.invoke({'question': question})}\")\n",
    "    print('-------------------')"
   ]
  }
 ],
 "metadata": {
  "kernelspec": {
   "display_name": "Python 3",
   "language": "python",
   "name": "python3"
  },
  "language_info": {
   "codemirror_mode": {
    "name": "ipython",
    "version": 3
   },
   "file_extension": ".py",
   "mimetype": "text/x-python",
   "name": "python",
   "nbconvert_exporter": "python",
   "pygments_lexer": "ipython3",
   "version": "3.10.14"
  }
 },
 "nbformat": 4,
 "nbformat_minor": 2
}
